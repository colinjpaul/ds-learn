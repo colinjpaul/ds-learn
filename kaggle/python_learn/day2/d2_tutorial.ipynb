{
 "cells": [
  {
   "cell_type": "code",
   "execution_count": 1,
   "metadata": {
    "collapsed": false
   },
   "outputs": [
    {
     "name": "stdout",
     "output_type": "stream",
     "text": [
      "9\nHelp on function least_difference in module __main__:\n\nleast_difference(a, b, c)\n    Return the smallest difference between any two numbers among a, b and c.\n    >> least_difference(1, 5, -5)\n    4\n\nHello,  Kaggle\nHello,  Colin\n"
     ]
    }
   ],
   "source": [
    "def least_difference(a,b,c):\n",
    "    '''Return the smallest difference between any two numbers among a, b and c.\n",
    "    >> least_difference(1, 5, -5)\n",
    "    4\n",
    "    '''\n",
    "\n",
    "    diff1 = abs(a-b)\n",
    "    diff2 = abs(b-c)\n",
    "    diff3 = abs(a-c)\n",
    "    return min(diff1,diff2,diff3)\n",
    "\n",
    "print(least_difference(1, 20, 11))\n",
    "\n",
    "help(least_difference)\n",
    "\n",
    "def greet(who=\"Colin\"):\n",
    "    print(\"Hello, \", who)\n",
    "    \n",
    "greet(who=\"Kaggle\")\n",
    "greet()"
   ]
  },
  {
   "cell_type": "code",
   "execution_count": 2,
   "metadata": {},
   "outputs": [
    {
     "name": "stdout",
     "output_type": "stream",
     "text": [
      "<class 'float'>\n<class 'function'>\n12.5\n<function f at 0x0000011AB5C7A620>\n"
     ]
    }
   ],
   "source": [
    "def f(n):\n",
    "    return n * 2\n",
    "\n",
    "x = 12.5\n",
    "\n",
    "print(type(x), type(f), sep='\\n')\n",
    "\n",
    "print(x)\n",
    "print(f)\n"
   ]
  },
  {
   "cell_type": "code",
   "execution_count": 4,
   "metadata": {},
   "outputs": [
    {
     "name": "stdout",
     "output_type": "stream",
     "text": [
      "2\n4\n"
     ]
    }
   ],
   "source": [
    "def call(fn, arg):\n",
    "    \"\"\"Call fn on arg\"\"\"\n",
    "    return fn(arg)\n",
    "\n",
    "def squared_call(fn, arg):\n",
    "    \"\"\"Call fn on the result of calling fn on arg\"\"\"\n",
    "    return fn(fn(arg))\n",
    "    \n",
    "print(\n",
    "    call(f, 1),\n",
    "    squared_call(f, 1),\n",
    "    sep='\\n'    \n",
    ")"
   ]
  },
  {
   "cell_type": "code",
   "execution_count": 1,
   "metadata": {},
   "outputs": [
    {
     "name": "stdout",
     "output_type": "stream",
     "text": [
      "Which number is biggest?\n100\nWhich number is the biggest modulo 5?\n14\n"
     ]
    }
   ],
   "source": [
    "def mod_5(x):\n",
    "    \"\"\"Return the remainder of x after dividing by 5\"\"\"\n",
    "    return x % 5\n",
    "\n",
    "print(\n",
    "    'Which number is biggest?',\n",
    "    max(100, 51, 14),\n",
    "    'Which number is the biggest modulo 5?',\n",
    "    max(100, 51, 14, key=mod_5),\n",
    "    sep='\\n',\n",
    ")"
   ]
  },
  {
   "cell_type": "code",
   "execution_count": 2,
   "metadata": {},
   "outputs": [
    {
     "name": "stdout",
     "output_type": "stream",
     "text": [
      "101 mod 5 = 1\n"
     ]
    }
   ],
   "source": [
    "mod_5 = lambda x: x % 5\n",
    "\n",
    "# Note that we don't use the \"return\" keyword above (it's implicit)\n",
    "# (The line below would produce a SyntaxError)\n",
    "#mod_5 = lambda x: return x % 5\n",
    "\n",
    "print('101 mod 5 =', mod_5(101))"
   ]
  },
  {
   "cell_type": "code",
   "execution_count": 3,
   "metadata": {},
   "outputs": [
    {
     "name": "stdout",
     "output_type": "stream",
     "text": [
      "Absolute difference of 5 and 7 is 2\n"
     ]
    }
   ],
   "source": [
    "# Lambdas can take multiple comma-separated arguments\n",
    "abs_diff = lambda a, b: abs(a-b)\n",
    "print(\"Absolute difference of 5 and 7 is\", abs_diff(5, 7))"
   ]
  },
  {
   "cell_type": "code",
   "execution_count": 4,
   "metadata": {},
   "outputs": [
    {
     "data": {
      "text/plain": [
       "32"
      ]
     },
     "execution_count": 4,
     "metadata": {},
     "output_type": "execute_result"
    }
   ],
   "source": [
    "# Or no arguments\n",
    "always_32 = lambda: 32\n",
    "always_32()"
   ]
  },
  {
   "cell_type": "code",
   "execution_count": 5,
   "metadata": {},
   "outputs": [
    {
     "name": "stdout",
     "output_type": "stream",
     "text": [
      "Longest name is: jacques\nNames sorted case insensitive: ['jacques', 'Mia', 'pui-wa', 'Ty']\n"
     ]
    }
   ],
   "source": [
    "# Preview of lists and strings. (We'll go in depth into both soon)\n",
    "# - len: return the length of a sequence (such as a string or list)\n",
    "# - sorted: return a sorted version of the given sequence (optional key \n",
    "#           function works similarly to max and min)\n",
    "# - s.lower() : return a lowercase version of string s\n",
    "names = ['jacques', 'Ty', 'Mia', 'pui-wa']\n",
    "print(\"Longest name is:\", max(names, key=lambda name: len(name))) # or just key=len\n",
    "print(\"Names sorted case insensitive:\", sorted(names, key=lambda name: name.lower()))"
   ]
  },
  {
   "cell_type": "code",
   "execution_count": null,
   "metadata": {},
   "outputs": [],
   "source": []
  }
 ],
 "metadata": {
  "kernelspec": {
   "display_name": "Python 2",
   "language": "python",
   "name": "python2"
  },
  "language_info": {
   "codemirror_mode": {
    "name": "ipython",
    "version": 2
   },
   "file_extension": ".py",
   "mimetype": "text/x-python",
   "name": "python",
   "nbconvert_exporter": "python",
   "pygments_lexer": "ipython2",
   "version": "2.7.6"
  }
 },
 "nbformat": 4,
 "nbformat_minor": 0
}
