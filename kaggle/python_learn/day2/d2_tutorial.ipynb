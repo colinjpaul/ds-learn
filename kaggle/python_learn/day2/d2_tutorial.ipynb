{
 "cells": [
  {
   "cell_type": "code",
   "execution_count": 3,
   "metadata": {
    "collapsed": false
   },
   "outputs": [
    {
     "name": "stdout",
     "output_type": "stream",
     "text": [
      "9\nHelp on function least_difference in module __main__:\n\nleast_difference(a, b, c)\n    Return the smallest difference between any two numbers among a, b and c.\n    >> least_difference(1, 5, -5)\n    4\n\nHello,  Kaggle\n"
     ]
    }
   ],
   "source": [
    "def least_difference(a,b,c):\n",
    "    '''Return the smallest difference between any two numbers among a, b and c.\n",
    "    >> least_difference(1, 5, -5)\n",
    "    4\n",
    "    '''\n",
    "\n",
    "    diff1 = abs(a-b)\n",
    "    diff2 = abs(b-c)\n",
    "    diff3 = abs(a-c)\n",
    "    return min(diff1,diff2,diff3)\n",
    "\n",
    "print(least_difference(1, 20, 11))\n",
    "\n",
    "help(least_difference)\n",
    "\n",
    "def greet(who=\"Colin\"):\n",
    "    print(\"Hello, \", who)\n",
    "    \n",
    "greet(who=\"Kaggle\")"
   ]
  },
  {
   "cell_type": "code",
   "execution_count": 9,
   "metadata": {},
   "outputs": [
    {
     "name": "stdout",
     "output_type": "stream",
     "text": [
      "<class 'float'>\n<class 'function'>\n12.5\n<function f at 0x00000235ADB33620>\n"
     ]
    }
   ],
   "source": [
    "def f(n):\n",
    "    return n * 2\n",
    "\n",
    "x = 12.5\n",
    "\n",
    "print(type(x), type(f), sep='\\n')\n",
    "\n",
    "print(x)\n",
    "print(f)\n"
   ]
  },
  {
   "cell_type": "code",
   "execution_count": 8,
   "metadata": {},
   "outputs": [
    {
     "name": "stdout",
     "output_type": "stream",
     "text": [
      "2\n4\n"
     ]
    }
   ],
   "source": [
    "def call(fn, arg):\n",
    "    \"\"\"Call fn on arg\"\"\"\n",
    "    return fn(arg)\n",
    "\n",
    "def squared_call(fn, arg):\n",
    "    \"\"\"Call fn on the result of calling fn on arg\"\"\"\n",
    "    return fn(fn(arg))\n",
    "\n",
    "    \n",
    "print(\n",
    "    call(f, 1), \n",
    "    squared_call(f, 1), \n",
    "    sep='\\n'\n",
    ")\n",
    "\n"
   ]
  },
  {
   "cell_type": "code",
   "execution_count": null,
   "metadata": {},
   "outputs": [],
   "source": []
  }
 ],
 "metadata": {
  "kernelspec": {
   "display_name": "Python 2",
   "language": "python",
   "name": "python2"
  },
  "language_info": {
   "codemirror_mode": {
    "name": "ipython",
    "version": 2
   },
   "file_extension": ".py",
   "mimetype": "text/x-python",
   "name": "python",
   "nbconvert_exporter": "python",
   "pygments_lexer": "ipython2",
   "version": "2.7.6"
  }
 },
 "nbformat": 4,
 "nbformat_minor": 0
}
